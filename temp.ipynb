{
 "cells": [
  {
   "cell_type": "code",
   "execution_count": 10,
   "metadata": {},
   "outputs": [],
   "source": [
    "from torch.utils.data import RandomSampler\n",
    "import torch\n",
    "import numpy as np\n",
    "import random"
   ]
  },
  {
   "cell_type": "code",
   "execution_count": 35,
   "metadata": {},
   "outputs": [],
   "source": [
    "seed = 33\n",
    "generator = torch.Generator()\n",
    "generator = generator.manual_seed(seed)\n",
    "aa = torch.randint(1, 3, (3,), generator=generator)\n",
    "# torch.randint(1, 3, (3,), generator=generator)\n"
   ]
  },
  {
   "cell_type": "code",
   "execution_count": 43,
   "metadata": {},
   "outputs": [
    {
     "data": {
      "text/plain": [
       "[2, 0, 1]"
      ]
     },
     "execution_count": 43,
     "metadata": {},
     "output_type": "execute_result"
    }
   ],
   "source": [
    "[i for i in iter(RandomSampler(aa, generator=generator))]"
   ]
  },
  {
   "cell_type": "code",
   "execution_count": 7,
   "metadata": {},
   "outputs": [],
   "source": [
    "seed = 33\n",
    "generator = torch.Generator()\n",
    "generator.manual_seed(0)\n",
    "torch.cuda.manual_seed(0)\n",
    "np.random.seed(0)\n",
    "random.seed(0)\n",
    "torch.backends.cudnn.deterministic=True"
   ]
  },
  {
   "cell_type": "code",
   "execution_count": 31,
   "metadata": {},
   "outputs": [
    {
     "data": {
      "text/plain": [
       "tensor([19, 33,  4, 55, 48, 50, 36, 45, 13, 30, 59, 26,  6, 12, 44, 48,  6,  4,\n",
       "        50, 20,  4, 28, 35, 30, 38, 19,  4, 11, 45, 47, 13, 54])"
      ]
     },
     "execution_count": 31,
     "metadata": {},
     "output_type": "execute_result"
    }
   ],
   "source": [
    "aa = torch.randint(1, 60, (32,), generator=generator)\n",
    "aa\n",
    "# sampler = RandomSampler(aa, generator=generator)"
   ]
  },
  {
   "cell_type": "code",
   "execution_count": 34,
   "metadata": {},
   "outputs": [
    {
     "data": {
      "text/plain": [
       "0"
      ]
     },
     "execution_count": 34,
     "metadata": {},
     "output_type": "execute_result"
    }
   ],
   "source": [
    "generator.initial_seed()"
   ]
  },
  {
   "cell_type": "code",
   "execution_count": 3,
   "metadata": {},
   "outputs": [
    {
     "data": {
      "text/plain": [
       "tensor([99, 19, 57])"
      ]
     },
     "execution_count": 3,
     "metadata": {},
     "output_type": "execute_result"
    }
   ],
   "source": [
    "seed = 33\n",
    "generator = torch.Generator()\n",
    "generator.manual_seed(0)\n",
    "# generator.initial_seed()\n",
    "torch.randint(1, 100, (3,), generator=generator)\n",
    "# "
   ]
  },
  {
   "cell_type": "code",
   "execution_count": 38,
   "metadata": {},
   "outputs": [
    {
     "data": {
      "text/plain": [
       "<torch._C.Generator at 0x7efeb3339850>"
      ]
     },
     "execution_count": 38,
     "metadata": {},
     "output_type": "execute_result"
    }
   ],
   "source": [
    "generator.manual_seed(3)"
   ]
  },
  {
   "cell_type": "code",
   "execution_count": 42,
   "metadata": {},
   "outputs": [
    {
     "data": {
      "text/plain": [
       "7264428964792235449"
      ]
     },
     "execution_count": 42,
     "metadata": {},
     "output_type": "execute_result"
    }
   ],
   "source": [
    "int(torch.empty((), dtype=torch.int64).random_().item())"
   ]
  },
  {
   "cell_type": "code",
   "execution_count": 40,
   "metadata": {},
   "outputs": [
    {
     "data": {
      "text/plain": [
       "8168956538510561777"
      ]
     },
     "execution_count": 40,
     "metadata": {},
     "output_type": "execute_result"
    }
   ],
   "source": [
    "generator.seed()"
   ]
  },
  {
   "cell_type": "code",
   "execution_count": 20,
   "metadata": {},
   "outputs": [
    {
     "data": {
      "text/plain": [
       "Parameter containing:\n",
       "tensor([[-0.0043,  0.3097, -0.4752],\n",
       "        [-0.4249, -0.2224,  0.1548],\n",
       "        [-0.0114,  0.4578, -0.0512],\n",
       "        [ 0.1528, -0.1745, -0.1135]], device='cuda:2', requires_grad=True)"
      ]
     },
     "execution_count": 20,
     "metadata": {},
     "output_type": "execute_result"
    }
   ],
   "source": [
    "torch.manual_seed(0)\n",
    "torch.cuda.manual_seed(0)\n",
    "l = torch.nn.Linear(3, 4)\n",
    "l.weight"
   ]
  },
  {
   "cell_type": "code",
   "execution_count": 13,
   "metadata": {},
   "outputs": [
    {
     "data": {
      "text/plain": [
       "Parameter containing:\n",
       "tensor([[-0.0043,  0.3097, -0.4752],\n",
       "        [-0.4249, -0.2224,  0.1548],\n",
       "        [-0.0114,  0.4578, -0.0512],\n",
       "        [ 0.1528, -0.1745, -0.1135]], requires_grad=True)"
      ]
     },
     "execution_count": 13,
     "metadata": {},
     "output_type": "execute_result"
    }
   ],
   "source": []
  },
  {
   "cell_type": "code",
   "execution_count": 21,
   "metadata": {},
   "outputs": [
    {
     "ename": "NameError",
     "evalue": "name 'aa' is not defined",
     "output_type": "error",
     "traceback": [
      "\u001b[0;31m---------------------------------------------------------------------------\u001b[0m",
      "\u001b[0;31mNameError\u001b[0m                                 Traceback (most recent call last)",
      "Cell \u001b[0;32mIn [21], line 1\u001b[0m\n\u001b[0;32m----> 1\u001b[0m sampler \u001b[39m=\u001b[39m RandomSampler(aa, generator\u001b[39m=\u001b[39mgenerator)\n",
      "\u001b[0;31mNameError\u001b[0m: name 'aa' is not defined"
     ]
    }
   ],
   "source": []
  },
  {
   "cell_type": "code",
   "execution_count": 27,
   "metadata": {},
   "outputs": [
    {
     "data": {
      "text/plain": [
       "tensor([ 9, 22, 26, 17, 25, 41, 35, 28, 32, 12, 30, 12, 47, 54, 18, 34, 53,  5,\n",
       "         7, 46, 31, 54, 25, 48, 45, 39, 56, 43, 11, 14, 19, 46])"
      ]
     },
     "execution_count": 27,
     "metadata": {},
     "output_type": "execute_result"
    }
   ],
   "source": [
    "aa = torch.randint(1, 60, (32,), generator=generator)\n",
    "aa"
   ]
  },
  {
   "cell_type": "code",
   "execution_count": 24,
   "metadata": {},
   "outputs": [
    {
     "data": {
      "text/plain": [
       "tensor([17, 59, 17, 14, 48, 16, 41,  6, 19, 59, 45, 16, 57, 25, 51, 25, 10, 46,\n",
       "        59, 16, 59, 48, 45, 14, 46, 54, 50, 11,  9, 43, 32, 36])"
      ]
     },
     "execution_count": 24,
     "metadata": {},
     "output_type": "execute_result"
    }
   ],
   "source": []
  },
  {
   "cell_type": "code",
   "execution_count": null,
   "metadata": {},
   "outputs": [],
   "source": []
  },
  {
   "cell_type": "code",
   "execution_count": null,
   "metadata": {},
   "outputs": [],
   "source": []
  },
  {
   "cell_type": "code",
   "execution_count": null,
   "metadata": {},
   "outputs": [],
   "source": []
  },
  {
   "cell_type": "code",
   "execution_count": null,
   "metadata": {},
   "outputs": [],
   "source": [
    "next(iter(sampler))"
   ]
  },
  {
   "cell_type": "code",
   "execution_count": 25,
   "metadata": {},
   "outputs": [
    {
     "data": {
      "text/plain": [
       "tensor([[19, 37, 35, 40],\n",
       "        [10, 30, 31, 46],\n",
       "        [20,  9, 39, 37],\n",
       "        [29, 31,  6, 41],\n",
       "        [ 9, 45, 15,  9],\n",
       "        [42, 10, 10, 22],\n",
       "        [ 7,  7, 49, 48],\n",
       "        [43, 26, 15, 43],\n",
       "        [29, 22, 41, 40],\n",
       "        [18, 15, 41, 28],\n",
       "        [ 0,  7,  6,  7],\n",
       "        [26, 36, 21, 31],\n",
       "        [38, 29, 32, 27],\n",
       "        [32, 13, 18,  2],\n",
       "        [34, 20, 26, 16],\n",
       "        [17, 39, 43, 41],\n",
       "        [33,  7, 17, 18],\n",
       "        [46,  0, 22, 41],\n",
       "        [31, 28,  5, 45],\n",
       "        [25, 42, 38, 20],\n",
       "        [41, 13, 38, 26],\n",
       "        [ 7,  6, 48, 46],\n",
       "        [42, 14,  4, 15],\n",
       "        [19, 41, 22, 33],\n",
       "        [ 0, 19, 39, 25],\n",
       "        [16, 16, 24, 47],\n",
       "        [23, 21, 35,  8],\n",
       "        [13, 38, 10, 42],\n",
       "        [36, 44, 18, 27],\n",
       "        [32, 49, 28, 38],\n",
       "        [30,  6, 36,  6],\n",
       "        [46,  5, 38, 22],\n",
       "        [21, 41, 29, 10],\n",
       "        [45,  2,  3, 23],\n",
       "        [19, 35,  9,  4],\n",
       "        [47, 40, 30,  1],\n",
       "        [21, 32, 49, 39],\n",
       "        [17, 12, 13, 27],\n",
       "        [45, 26, 35, 36],\n",
       "        [38,  2, 45,  5],\n",
       "        [17, 27, 44, 30],\n",
       "        [22, 34, 39, 40],\n",
       "        [22, 30, 46, 31],\n",
       "        [13,  2, 45, 36],\n",
       "        [10,  2, 18, 44],\n",
       "        [10, 22, 23, 35],\n",
       "        [42, 21,  3, 20],\n",
       "        [22, 34, 48,  9],\n",
       "        [19, 31, 23,  4],\n",
       "        [ 9, 42, 38, 40],\n",
       "        [44, 19, 36,  9],\n",
       "        [38,  0, 12,  8],\n",
       "        [44,  8, 18, 11],\n",
       "        [ 8, 34, 34,  1],\n",
       "        [21, 39, 47,  6],\n",
       "        [47, 37,  8,  0],\n",
       "        [40, 13, 33, 15],\n",
       "        [38, 49, 18,  5],\n",
       "        [10, 20,  8, 28],\n",
       "        [17, 19, 49, 30],\n",
       "        [ 3, 17, 25, 14],\n",
       "        [ 0, 39, 15, 47],\n",
       "        [12,  0,  9, 12],\n",
       "        [12, 15, 14, 35],\n",
       "        [30, 26, 16, 26],\n",
       "        [36, 37,  5, 26],\n",
       "        [40, 35, 40, 10],\n",
       "        [31, 47,  4, 10],\n",
       "        [43, 26,  2, 36],\n",
       "        [17, 26,  3, 31],\n",
       "        [16,  6, 42,  6],\n",
       "        [46, 24, 24, 48],\n",
       "        [ 6, 39, 30, 47],\n",
       "        [27,  5, 13, 11],\n",
       "        [ 2, 11,  3, 13],\n",
       "        [27, 46, 14, 33],\n",
       "        [ 3, 41, 13,  8],\n",
       "        [40, 37,  7, 44],\n",
       "        [38, 25, 42, 32],\n",
       "        [ 9, 30, 37, 20],\n",
       "        [38, 29, 28, 48],\n",
       "        [15,  0, 34, 49],\n",
       "        [43, 29, 35,  0],\n",
       "        [45, 29, 42, 41],\n",
       "        [19, 49, 33, 37],\n",
       "        [16,  2, 11, 41],\n",
       "        [13, 40,  7,  2],\n",
       "        [34, 14, 40, 18],\n",
       "        [22, 20,  9, 25],\n",
       "        [35, 34, 17, 44],\n",
       "        [ 2, 38, 17, 20],\n",
       "        [31, 14, 43, 30],\n",
       "        [36, 24,  7, 25],\n",
       "        [ 2,  9, 37,  7],\n",
       "        [39, 16, 40, 35],\n",
       "        [23, 30, 26, 13],\n",
       "        [10, 47,  9, 26],\n",
       "        [26, 40,  4, 42],\n",
       "        [43, 16, 19, 25],\n",
       "        [37, 31,  0,  7]])"
      ]
     },
     "execution_count": 25,
     "metadata": {},
     "output_type": "execute_result"
    }
   ],
   "source": [
    "aa"
   ]
  },
  {
   "cell_type": "code",
   "execution_count": 14,
   "metadata": {},
   "outputs": [],
   "source": [
    "aa = torch.randint(50, (100,4))"
   ]
  },
  {
   "cell_type": "code",
   "execution_count": 16,
   "metadata": {},
   "outputs": [
    {
     "data": {
      "text/plain": [
       "<torch._C.Generator at 0x7efeb3339850>"
      ]
     },
     "execution_count": 16,
     "metadata": {},
     "output_type": "execute_result"
    }
   ],
   "source": [
    "seed = int(torch.empty((), dtype=torch.int64).random_().item())\n",
    "generator = torch.Generator()\n",
    "generator.manual_seed(seed)\n"
   ]
  },
  {
   "cell_type": "code",
   "execution_count": 8,
   "metadata": {},
   "outputs": [
    {
     "ename": "TypeError",
     "evalue": "'PCMCI' object is not subscriptable",
     "output_type": "error",
     "traceback": [
      "\u001b[0;31m---------------------------------------------------------------------------\u001b[0m",
      "\u001b[0;31mTypeError\u001b[0m                                 Traceback (most recent call last)",
      "Cell \u001b[0;32mIn [8], line 1\u001b[0m\n\u001b[0;32m----> 1\u001b[0m \u001b[43mp_matrix\u001b[49m\u001b[43m[\u001b[49m\u001b[38;5;241;43m0\u001b[39;49m\u001b[43m]\u001b[49m\n",
      "\u001b[0;31mTypeError\u001b[0m: 'PCMCI' object is not subscriptable"
     ]
    }
   ],
   "source": [
    "p_matrix"
   ]
  },
  {
   "cell_type": "code",
   "execution_count": 3,
   "metadata": {},
   "outputs": [
    {
     "ename": "AttributeError",
     "evalue": "'DataFrame' object has no attribute 'var_names'",
     "output_type": "error",
     "traceback": [
      "\u001b[0;31m---------------------------------------------------------------------------\u001b[0m",
      "\u001b[0;31mAttributeError\u001b[0m                            Traceback (most recent call last)",
      "Cell \u001b[0;32mIn [3], line 2\u001b[0m\n\u001b[1;32m      1\u001b[0m cond_ind_test \u001b[38;5;241m=\u001b[39m tigramite\u001b[38;5;241m.\u001b[39mindependence_tests\u001b[38;5;241m.\u001b[39mParCorr()\n\u001b[0;32m----> 2\u001b[0m p_matrix \u001b[38;5;241m=\u001b[39m \u001b[43mtigramite\u001b[49m\u001b[38;5;241;43m.\u001b[39;49m\u001b[43mpcmci\u001b[49m\u001b[38;5;241;43m.\u001b[39;49m\u001b[43mPCMCI\u001b[49m\u001b[43m(\u001b[49m\u001b[43mdf\u001b[49m\u001b[43m,\u001b[49m\u001b[43m \u001b[49m\u001b[43mcond_ind_test\u001b[49m\u001b[43m)\u001b[49m\n",
      "File \u001b[0;32m~/anaconda3/envs/hfai/lib/python3.8/site-packages/tigramite-5.1.0.5-py3.8.egg/tigramite/pcmci.py:160\u001b[0m, in \u001b[0;36mPCMCI.__init__\u001b[0;34m(self, dataframe, cond_ind_test, selected_variables, verbosity)\u001b[0m\n\u001b[1;32m    158\u001b[0m \u001b[39mself\u001b[39m\u001b[39m.\u001b[39mverbosity \u001b[39m=\u001b[39m verbosity\n\u001b[1;32m    159\u001b[0m \u001b[39m# Set the variable names \u001b[39;00m\n\u001b[0;32m--> 160\u001b[0m \u001b[39mself\u001b[39m\u001b[39m.\u001b[39mvar_names \u001b[39m=\u001b[39m \u001b[39mself\u001b[39;49m\u001b[39m.\u001b[39;49mdataframe\u001b[39m.\u001b[39;49mvar_names\n\u001b[1;32m    162\u001b[0m \u001b[39m# Raise error if selected_variables is set\u001b[39;00m\n\u001b[1;32m    163\u001b[0m \u001b[39mif\u001b[39;00m selected_variables \u001b[39mis\u001b[39;00m \u001b[39mnot\u001b[39;00m \u001b[39mNone\u001b[39;00m:\n",
      "File \u001b[0;32m~/anaconda3/envs/hfai/lib/python3.8/site-packages/pandas/core/generic.py:5575\u001b[0m, in \u001b[0;36mNDFrame.__getattr__\u001b[0;34m(self, name)\u001b[0m\n\u001b[1;32m   5568\u001b[0m \u001b[39mif\u001b[39;00m (\n\u001b[1;32m   5569\u001b[0m     name \u001b[39mnot\u001b[39;00m \u001b[39min\u001b[39;00m \u001b[39mself\u001b[39m\u001b[39m.\u001b[39m_internal_names_set\n\u001b[1;32m   5570\u001b[0m     \u001b[39mand\u001b[39;00m name \u001b[39mnot\u001b[39;00m \u001b[39min\u001b[39;00m \u001b[39mself\u001b[39m\u001b[39m.\u001b[39m_metadata\n\u001b[1;32m   5571\u001b[0m     \u001b[39mand\u001b[39;00m name \u001b[39mnot\u001b[39;00m \u001b[39min\u001b[39;00m \u001b[39mself\u001b[39m\u001b[39m.\u001b[39m_accessors\n\u001b[1;32m   5572\u001b[0m     \u001b[39mand\u001b[39;00m \u001b[39mself\u001b[39m\u001b[39m.\u001b[39m_info_axis\u001b[39m.\u001b[39m_can_hold_identifiers_and_holds_name(name)\n\u001b[1;32m   5573\u001b[0m ):\n\u001b[1;32m   5574\u001b[0m     \u001b[39mreturn\u001b[39;00m \u001b[39mself\u001b[39m[name]\n\u001b[0;32m-> 5575\u001b[0m \u001b[39mreturn\u001b[39;00m \u001b[39mobject\u001b[39;49m\u001b[39m.\u001b[39;49m\u001b[39m__getattribute__\u001b[39;49m(\u001b[39mself\u001b[39;49m, name)\n",
      "\u001b[0;31mAttributeError\u001b[0m: 'DataFrame' object has no attribute 'var_names'"
     ]
    }
   ],
   "source": []
  },
  {
   "cell_type": "code",
   "execution_count": 13,
   "metadata": {},
   "outputs": [
    {
     "data": {
      "text/plain": [
       "({0: 26304},\n",
       " 321,\n",
       " <bound method PCMCI.convert_to_string_graph of <tigramite.pcmci.PCMCI object at 0x7fd4aada91c0>>)"
      ]
     },
     "execution_count": 13,
     "metadata": {},
     "output_type": "execute_result"
    }
   ],
   "source": []
  },
  {
   "cell_type": "code",
   "execution_count": 35,
   "metadata": {},
   "outputs": [
    {
     "data": {
      "text/plain": [
       "<torch._C.Generator at 0x7f0f380fdc70>"
      ]
     },
     "execution_count": 35,
     "metadata": {},
     "output_type": "execute_result"
    }
   ],
   "source": [
    "seed = 33\n",
    "generator = torch.Generator()\n",
    "generator.manual_seed(seed)"
   ]
  },
  {
   "cell_type": "code",
   "execution_count": 39,
   "metadata": {},
   "outputs": [
    {
     "data": {
      "text/plain": [
       "tensor([12, 17, 96])"
      ]
     },
     "execution_count": 39,
     "metadata": {},
     "output_type": "execute_result"
    }
   ],
   "source": [
    "torch.randint(1, 100, (3,), generator=generator)\n"
   ]
  },
  {
   "cell_type": "code",
   "execution_count": 1,
   "metadata": {},
   "outputs": [
    {
     "name": "stderr",
     "output_type": "stream",
     "text": [
      "/root/anaconda3/envs/pytorch_timeseries/lib/python3.7/site-packages/tqdm-4.64.0-py3.7.egg/tqdm/auto.py:22: TqdmWarning: IProgress not found. Please update jupyter and ipywidgets. See https://ipywidgets.readthedocs.io/en/stable/user_install.html\n",
      "  from .autonotebook import tqdm as notebook_tqdm\n"
     ]
    },
    {
     "data": {
      "text/plain": [
       "torch.Size([64, 64, 8, 1])"
      ]
     },
     "execution_count": 1,
     "metadata": {},
     "output_type": "execute_result"
    }
   ],
   "source": [
    "import torch\n",
    "from torch_timeseries.nn.dil_encoder import DILEncoder\n",
    "\n",
    "\n",
    "encoder = DILEncoder(8, 130,in_dim=1, middle_channel=64,dilation_exponential=2, layers=5)\n",
    "data = torch.randn(64, 1, 8, 130)\n",
    "\n",
    "encoder(data).shape"
   ]
  },
  {
   "cell_type": "code",
   "execution_count": 8,
   "metadata": {},
   "outputs": [
    {
     "data": {
      "text/plain": [
       "torch.Size([64, 1, 8, 1])"
      ]
     },
     "execution_count": 8,
     "metadata": {},
     "output_type": "execute_result"
    }
   ],
   "source": [
    "\n",
    "import torch\n",
    "from torch_timeseries.nn.net import Net\n",
    "encoder = Net(8, 130,in_dim=1, embed_dim=8, middle_channel=8, seq_out=1,dilation_exponential=2, layers=5)\n",
    "data = torch.randn(64, 1, 8, 130)\n",
    "encoder(data).shape\n"
   ]
  },
  {
   "cell_type": "code",
   "execution_count": 2,
   "metadata": {},
   "outputs": [
    {
     "data": {
      "text/plain": [
       "'1.11.0'"
      ]
     },
     "execution_count": 2,
     "metadata": {},
     "output_type": "execute_result"
    }
   ],
   "source": [
    "torch.__version__"
   ]
  },
  {
   "cell_type": "code",
   "execution_count": 5,
   "metadata": {},
   "outputs": [
    {
     "name": "stdout",
     "output_type": "stream",
     "text": [
      "\n",
      "                  __    __    __    __\n",
      "                 /  \\  /  \\  /  \\  /  \\\n",
      "                /    \\/    \\/    \\/    \\\n",
      "███████████████/  /██/  /██/  /██/  /████████████████████████\n",
      "              /  / \\   / \\   / \\   / \\  \\____\n",
      "             /  /   \\_/   \\_/   \\_/   \\    o \\__,\n",
      "            / _/                       \\_____/  `\n",
      "            |/\n",
      "        ███╗   ███╗ █████╗ ███╗   ███╗██████╗  █████╗\n",
      "        ████╗ ████║██╔══██╗████╗ ████║██╔══██╗██╔══██╗\n",
      "        ██╔████╔██║███████║██╔████╔██║██████╔╝███████║\n",
      "        ██║╚██╔╝██║██╔══██║██║╚██╔╝██║██╔══██╗██╔══██║\n",
      "        ██║ ╚═╝ ██║██║  ██║██║ ╚═╝ ██║██████╔╝██║  ██║\n",
      "        ╚═╝     ╚═╝╚═╝  ╚═╝╚═╝     ╚═╝╚═════╝ ╚═╝  ╚═╝\n",
      "\n",
      "        mamba (0.15.2) supported by @QuantStack\n",
      "\n",
      "        GitHub:  https://github.com/mamba-org/mamba\n",
      "        Twitter: https://twitter.com/QuantStack\n",
      "\n",
      "█████████████████████████████████████████████████████████████\n",
      "\n",
      "\n",
      "Looking for: ['pyg']\n",
      "\n",
      "pkgs/main/linux-64       [<=>                 ] (00m:00s) \n",
      "pkgs/main/linux-64       [=>                ] (00m:00s) 498  B / ?? (1.17 KB/s)\n",
      "pkgs/main/linux-64       [=>                ] (00m:00s) 498  B / ?? (1.17 KB/s)\n",
      "pkgs/main/noarch         [<=>                 ] (00m:00s) \n",
      "pkgs/main/linux-64       [=>                ] (00m:00s) 498  B / ?? (1.17 KB/s)\n",
      "pkgs/main/noarch         [=>                ] (00m:00s) 496  B / ?? (1.17 KB/s)\n",
      "pkgs/main/linux-64       [=>                ] (00m:00s) 498  B / ?? (1.17 KB/s)\n",
      "pkgs/main/noarch         [=>                ] (00m:00s) 496  B / ?? (1.17 KB/s)\n",
      "pkgs/r/linux-64          [>                   ] (--:--) No change\n",
      "pkgs/r/linux-64          [====================] (00m:00s) No change\n",
      "pkgs/main/linux-64       [=>                ] (00m:00s) 498  B / ?? (1.17 KB/s)\n",
      "pkgs/main/noarch         [=>                ] (00m:00s) 496  B / ?? (1.17 KB/s)\n",
      "pkgs/main/linux-64       [<=>               ] (00m:00s) 498  B / ?? (1.17 KB/s)\n",
      "pkgs/main/noarch         [=>                ] (00m:00s) 496  B / ?? (1.17 KB/s)\n",
      "pkgs/main/linux-64       [<=>             ] (00m:00s) 168 KB / ?? (297.43 KB/s)\n",
      "pkgs/main/noarch         [=>                ] (00m:00s) 496  B / ?? (1.17 KB/s)\n",
      "pkgs/main/linux-64       [<=>             ] (00m:00s) 168 KB / ?? (297.43 KB/s)\n",
      "pkgs/main/noarch         [<=>               ] (00m:00s) 496  B / ?? (1.17 KB/s)\n",
      "pkgs/main/linux-64       [<=>             ] (00m:00s) 168 KB / ?? (297.43 KB/s)\n",
      "pkgs/main/noarch         [<=>             ] (00m:00s) 172 KB / ?? (304.52 KB/s)\n",
      "pkgs/main/linux-64       [<=>             ] (00m:00s) 168 KB / ?? (297.43 KB/s)\n",
      "pkgs/main/noarch         [<=>             ] (00m:00s) 172 KB / ?? (304.52 KB/s)\n",
      "pkgs/r/noarch            [<=>                 ] (00m:00s) \n",
      "pkgs/main/linux-64       [<=>             ] (00m:00s) 168 KB / ?? (297.43 KB/s)\n",
      "pkgs/main/noarch         [<=>             ] (00m:00s) 172 KB / ?? (304.52 KB/s)\n",
      "pkgs/r/noarch            [=>                ] (00m:00s) 43 KB / ?? (75.55 KB/s)\n",
      "pkgs/main/linux-64       [ <=>            ] (00m:00s) 168 KB / ?? (297.43 KB/s)\n",
      "pkgs/main/noarch         [<=>             ] (00m:00s) 172 KB / ?? (304.52 KB/s)\n",
      "pkgs/r/noarch            [=>                ] (00m:00s) 43 KB / ?? (75.55 KB/s)\n",
      "pkgs/main/linux-64       [ <=>            ] (00m:00s) 628 KB / ?? (878.11 KB/s)\n",
      "pkgs/main/noarch         [<=>             ] (00m:00s) 172 KB / ?? (304.52 KB/s)\n",
      "pkgs/r/noarch            [=>                ] (00m:00s) 43 KB / ?? (75.55 KB/s)\n",
      "pkgs/main/linux-64       [ <=>            ] (00m:00s) 628 KB / ?? (878.11 KB/s)\n",
      "pkgs/main/noarch         [ <=>            ] (00m:00s) 172 KB / ?? (304.52 KB/s)\n",
      "pkgs/r/noarch            [=>                ] (00m:00s) 43 KB / ?? (75.55 KB/s)\n",
      "pkgs/main/linux-64       [ <=>            ] (00m:00s) 628 KB / ?? (878.11 KB/s)\n",
      "pkgs/main/noarch         [ <=>           ] (00m:00s) 720 KB / ?? (1006.26 KB/s)\n",
      "pkgs/r/noarch            [=>                ] (00m:00s) 43 KB / ?? (75.55 KB/s)\n",
      "pkgs/main/linux-64       [ <=>            ] (00m:00s) 628 KB / ?? (878.11 KB/s)\n",
      "pkgs/main/noarch         [ <=>           ] (00m:00s) 720 KB / ?? (1006.26 KB/s)\n",
      "pkgs/r/noarch            [<=>               ] (00m:00s) 43 KB / ?? (75.55 KB/s)\n",
      "pkgs/main/linux-64       [ <=>            ] (00m:00s) 628 KB / ?? (878.11 KB/s)\n",
      "pkgs/main/noarch         [ <=>           ] (00m:00s) 720 KB / ?? (1006.26 KB/s)\n",
      "pkgs/r/noarch            [<=>             ] (00m:00s) 252 KB / ?? (352.24 KB/s)\n",
      "pkgs/main/linux-64       [ <=>            ] (00m:00s) 628 KB / ?? (878.11 KB/s)\n",
      "pkgs/main/noarch         [  <=>               ] (00m:00s) Finalizing...\n",
      "pkgs/r/noarch            [<=>             ] (00m:00s) 252 KB / ?? (352.24 KB/s)\n",
      "pkgs/main/linux-64       [ <=>            ] (00m:00s) 628 KB / ?? (878.11 KB/s)\n",
      "pkgs/main/noarch         [  <=>               ] (00m:00s) Done\n",
      "pkgs/r/noarch            [<=>             ] (00m:00s) 252 KB / ?? (352.24 KB/s)\n",
      "pkgs/main/noarch         [====================] (00m:00s) Done\n",
      "pkgs/main/linux-64       [ <=>            ] (00m:00s) 628 KB / ?? (878.11 KB/s)\n",
      "pkgs/r/noarch            [<=>             ] (00m:00s) 252 KB / ?? (352.24 KB/s)\n",
      "pkgs/main/linux-64       [  <=>           ] (00m:00s) 628 KB / ?? (878.11 KB/s)\n",
      "pkgs/r/noarch            [<=>             ] (00m:00s) 252 KB / ?? (352.24 KB/s)\n",
      "pkgs/main/linux-64       [   <=>              ] (00m:00s) 2 MB / ?? (1.79 MB/s)\n",
      "pkgs/r/noarch            [<=>             ] (00m:00s) 252 KB / ?? (352.24 KB/s)\n",
      "pkgs/main/linux-64       [   <=>              ] (00m:00s) 2 MB / ?? (1.79 MB/s)\n",
      "pkgs/r/noarch            [ <=>            ] (00m:00s) 252 KB / ?? (352.24 KB/s)\n",
      "pkgs/main/linux-64       [   <=>              ] (00m:00s) 2 MB / ?? (1.79 MB/s)\n",
      "pkgs/r/noarch            [ <=>              ] (00m:00s) 888 KB / ?? (1.00 MB/s)\n",
      "pkgs/main/linux-64       [   <=>              ] (00m:00s) 2 MB / ?? (1.79 MB/s)\n",
      "pkgs/r/noarch            [  <=>               ] (00m:00s) Finalizing...\n",
      "pkgs/main/linux-64       [   <=>              ] (00m:00s) 2 MB / ?? (1.79 MB/s)\n",
      "pkgs/r/noarch            [  <=>               ] (00m:00s) Done\n",
      "pkgs/r/noarch            [====================] (00m:00s) Done\n",
      "pkgs/main/linux-64       [   <=>              ] (00m:00s) 2 MB / ?? (1.79 MB/s)\n",
      "pkgs/main/linux-64       [    <=>             ] (00m:00s) 2 MB / ?? (1.79 MB/s)\n",
      "pkgs/main/linux-64       [    <=>             ] (00m:00s) 2 MB / ?? (1.82 MB/s)\n",
      "pkgs/main/linux-64       [     <=>            ] (00m:00s) 2 MB / ?? (1.82 MB/s)\n",
      "pkgs/main/linux-64       [     <=>            ] (00m:00s) 3 MB / ?? (2.64 MB/s)\n",
      "pkgs/main/linux-64       [      <=>           ] (00m:00s) 3 MB / ?? (2.64 MB/s)\n",
      "pkgs/main/linux-64       [      <=>           ] (00m:00s) 4 MB / ?? (2.98 MB/s)\n",
      "pkgs/main/linux-64       [       <=>          ] (00m:01s) 4 MB / ?? (2.98 MB/s)\n",
      "pkgs/main/linux-64       [       <=>          ] (00m:01s) 5 MB / ?? (3.22 MB/s)\n",
      "pkgs/main/linux-64       [       <=>          ] (00m:01s) Finalizing...\n",
      "pkgs/main/linux-64       [       <=>          ] (00m:01s) Done\n",
      "pkgs/main/linux-64       [====================] (00m:01s) Done\n",
      "pyg/noarch               [<=>                 ] (00m:00s) \n",
      "pyg/noarch               [=>                 ] (00m:00s) 15  B / ?? (7.00  B/s)\n",
      "pyg/noarch               [<=>                 ] (00m:00s) Finalizing...\n",
      "pyg/noarch               [<=>                 ] (00m:00s) Done\n",
      "pyg/noarch               [====================] (00m:00s) Done\n",
      "pyg/linux-64             [>                   ] (--:--) Finalizing...\n",
      "pyg/linux-64             [>                   ] (--:--) Done\n",
      "pyg/linux-64             [====================] (00m:00s) Done\n",
      "\n",
      "Pinned packages:\n",
      "  - python 3.7.13\n",
      "\n",
      "\n",
      "Transaction\n",
      "\n",
      "  Prefix: /root/anaconda3/envs/pytorch_timeseries\n",
      "\n",
      "  Updating specs:\n",
      "\n",
      "   - pyg\n",
      "   - ca-certificates\n",
      "   - certifi\n",
      "   - openssl\n",
      "\n",
      "\n",
      "  Package               Version  Build                    Channel                  Size\n",
      "─────────────────────────────────────────────────────────────────────────────────────────\n",
      "  Install:\n",
      "─────────────────────────────────────────────────────────────────────────────────────────\n",
      "\n",
      "\u001b[32m  + fftw           \u001b[00m       3.3.9  h27cfd23_1               pkgs/main/linux-64       4 MB\n",
      "\u001b[32m  + jinja2         \u001b[00m       3.1.2  py37h06a4308_0           pkgs/main/linux-64     206 KB\n",
      "\u001b[32m  + joblib         \u001b[00m       1.1.1  py37h06a4308_0           pkgs/main/linux-64     404 KB\n",
      "\u001b[32m  + libgfortran-ng \u001b[00m      11.2.0  h00389a5_1               pkgs/main/linux-64      19 KB\n",
      "\u001b[32m  + libgfortran5   \u001b[00m      11.2.0  h1234567_1               pkgs/main/linux-64       5 MB\n",
      "\u001b[32m  + markupsafe     \u001b[00m       2.1.1  py37h7f8727e_0           pkgs/main/linux-64      22 KB\n",
      "\u001b[32m  + pyg            \u001b[00m       2.1.0  py37_torch_1.11.0_cu113  pyg/linux-64           829 KB\n",
      "\u001b[32m  + pytorch-cluster\u001b[00m       1.6.0  py37_torch_1.11.0_cu113  pyg/linux-64             2 MB\n",
      "\u001b[32m  + pytorch-scatter\u001b[00m       2.0.9  py37_torch_1.11.0_cu113  pyg/linux-64             5 MB\n",
      "\u001b[32m  + pytorch-sparse \u001b[00m      0.6.15  py37_torch_1.11.0_cu113  pyg/linux-64             3 MB\n",
      "\u001b[32m  + scikit-learn   \u001b[00m       1.0.2  py37h51133e4_1           pkgs/main/linux-64\u001b[32m     Cached\u001b[00m\n",
      "\u001b[32m  + scipy          \u001b[00m       1.7.3  py37h6c91a56_2           pkgs/main/linux-64      22 MB\n",
      "\u001b[32m  + threadpoolctl  \u001b[00m       2.2.0  pyh0d69192_0             pkgs/main/noarch        16 KB\n",
      "\u001b[32m  + tqdm           \u001b[00m      4.64.1  py37h06a4308_0           pkgs/main/linux-64     122 KB\n",
      "\n",
      "  Upgrade:\n",
      "─────────────────────────────────────────────────────────────────────────────────────────\n",
      "\n",
      "\u001b[31m  - ca-certificates\u001b[00m  2022.07.19  h06a4308_0               installed                    \n",
      "\u001b[32m  + ca-certificates\u001b[00m  2022.10.11  h06a4308_0               pkgs/main/linux-64     131 KB\n",
      "\u001b[31m  - certifi        \u001b[00m   2022.9.14  py37h06a4308_0           installed                    \n",
      "\u001b[32m  + certifi        \u001b[00m   2022.9.24  py37h06a4308_0           pkgs/main/linux-64     157 KB\n",
      "\u001b[31m  - openssl        \u001b[00m      1.1.1q  h7f8727e_0               installed                    \n",
      "\u001b[32m  + openssl        \u001b[00m      1.1.1s  h7f8727e_0               pkgs/main/linux-64       4 MB\n",
      "\n",
      "  Summary:\n",
      "\n",
      "  Install: 14 packages\n",
      "  Upgrade: 3 packages\n",
      "\n",
      "  Total download: 45 MB\n",
      "\n",
      "─────────────────────────────────────────────────────────────────────────────────────────\n",
      "\n",
      "Confirm changes: [Y/n] ^C\n"
     ]
    }
   ],
   "source": []
  },
  {
   "cell_type": "code",
   "execution_count": 1,
   "metadata": {},
   "outputs": [
    {
     "name": "stderr",
     "output_type": "stream",
     "text": [
      "/root/anaconda3/envs/pytorch_timeseries/lib/python3.7/site-packages/tqdm/auto.py:22: TqdmWarning: IProgress not found. Please update jupyter and ipywidgets. See https://ipywidgets.readthedocs.io/en/stable/user_install.html\n",
      "  from .autonotebook import tqdm as notebook_tqdm\n",
      "2022-12-07 19:34:02.965 | INFO     | torch_timeseries.nn.mtcsg:forward:40 - x shape : torch.Size([64, 16, 8, 1])\n",
      "2022-12-07 19:34:02.966 | INFO     | torch_timeseries.nn.mtcsg:forward:43 - x shape : torch.Size([64, 8, 16])\n"
     ]
    },
    {
     "ename": "TypeError",
     "evalue": "conv2d() received an invalid combination of arguments - got (ReLU, Parameter, Parameter, tuple, tuple, tuple, int), but expected one of:\n * (Tensor input, Tensor weight, Tensor bias, tuple of ints stride, tuple of ints padding, tuple of ints dilation, int groups)\n      didn't match because some of the arguments have invalid types: (!ReLU!, !Parameter!, !Parameter!, !tuple!, !tuple!, !tuple!, int)\n * (Tensor input, Tensor weight, Tensor bias, tuple of ints stride, str padding, tuple of ints dilation, int groups)\n      didn't match because some of the arguments have invalid types: (!ReLU!, !Parameter!, !Parameter!, !tuple!, !tuple!, !tuple!, int)\n",
     "output_type": "error",
     "traceback": [
      "\u001b[0;31m---------------------------------------------------------------------------\u001b[0m",
      "\u001b[0;31mTypeError\u001b[0m                                 Traceback (most recent call last)",
      "\u001b[0;32m/tmp/ipykernel_181127/1611727105.py\u001b[0m in \u001b[0;36m<module>\u001b[0;34m\u001b[0m\n\u001b[1;32m      3\u001b[0m \u001b[0mmodel\u001b[0m \u001b[0;34m=\u001b[0m \u001b[0mMTCSG\u001b[0m\u001b[0;34m(\u001b[0m\u001b[0;36m8\u001b[0m\u001b[0;34m,\u001b[0m \u001b[0;36m130\u001b[0m\u001b[0;34m,\u001b[0m \u001b[0mmiddle_channel\u001b[0m\u001b[0;34m=\u001b[0m\u001b[0;36m16\u001b[0m\u001b[0;34m,\u001b[0m \u001b[0mseq_out\u001b[0m\u001b[0;34m=\u001b[0m\u001b[0;36m1\u001b[0m\u001b[0;34m,\u001b[0m\u001b[0mcausal_aggr_layers\u001b[0m\u001b[0;34m=\u001b[0m\u001b[0;36m1\u001b[0m\u001b[0;34m)\u001b[0m\u001b[0;34m\u001b[0m\u001b[0;34m\u001b[0m\u001b[0m\n\u001b[1;32m      4\u001b[0m \u001b[0mdata\u001b[0m \u001b[0;34m=\u001b[0m \u001b[0mtorch\u001b[0m\u001b[0;34m.\u001b[0m\u001b[0mrandn\u001b[0m\u001b[0;34m(\u001b[0m\u001b[0;36m64\u001b[0m\u001b[0;34m,\u001b[0m \u001b[0;36m1\u001b[0m\u001b[0;34m,\u001b[0m \u001b[0;36m8\u001b[0m\u001b[0;34m,\u001b[0m \u001b[0;36m130\u001b[0m\u001b[0;34m)\u001b[0m\u001b[0;34m\u001b[0m\u001b[0;34m\u001b[0m\u001b[0m\n\u001b[0;32m----> 5\u001b[0;31m \u001b[0mmodel\u001b[0m\u001b[0;34m(\u001b[0m\u001b[0mdata\u001b[0m\u001b[0;34m)\u001b[0m\u001b[0;34m\u001b[0m\u001b[0;34m\u001b[0m\u001b[0m\n\u001b[0m",
      "\u001b[0;32m~/anaconda3/envs/pytorch_timeseries/lib/python3.7/site-packages/torch/nn/modules/module.py\u001b[0m in \u001b[0;36m_call_impl\u001b[0;34m(self, *input, **kwargs)\u001b[0m\n\u001b[1;32m   1108\u001b[0m         if not (self._backward_hooks or self._forward_hooks or self._forward_pre_hooks or _global_backward_hooks\n\u001b[1;32m   1109\u001b[0m                 or _global_forward_hooks or _global_forward_pre_hooks):\n\u001b[0;32m-> 1110\u001b[0;31m             \u001b[0;32mreturn\u001b[0m \u001b[0mforward_call\u001b[0m\u001b[0;34m(\u001b[0m\u001b[0;34m*\u001b[0m\u001b[0minput\u001b[0m\u001b[0;34m,\u001b[0m \u001b[0;34m**\u001b[0m\u001b[0mkwargs\u001b[0m\u001b[0;34m)\u001b[0m\u001b[0;34m\u001b[0m\u001b[0;34m\u001b[0m\u001b[0m\n\u001b[0m\u001b[1;32m   1111\u001b[0m         \u001b[0;31m# Do not call functions when jit is used\u001b[0m\u001b[0;34m\u001b[0m\u001b[0;34m\u001b[0m\u001b[0;34m\u001b[0m\u001b[0m\n\u001b[1;32m   1112\u001b[0m         \u001b[0mfull_backward_hooks\u001b[0m\u001b[0;34m,\u001b[0m \u001b[0mnon_full_backward_hooks\u001b[0m \u001b[0;34m=\u001b[0m \u001b[0;34m[\u001b[0m\u001b[0;34m]\u001b[0m\u001b[0;34m,\u001b[0m \u001b[0;34m[\u001b[0m\u001b[0;34m]\u001b[0m\u001b[0;34m\u001b[0m\u001b[0;34m\u001b[0m\u001b[0m\n",
      "\u001b[0;32m/notebooks/pytorch_timeseries/torch_timeseries/nn/mtcsg.py\u001b[0m in \u001b[0;36mforward\u001b[0;34m(self, x)\u001b[0m\n\u001b[1;32m     53\u001b[0m         \u001b[0mx\u001b[0m \u001b[0;34m=\u001b[0m \u001b[0mx\u001b[0m\u001b[0;34m.\u001b[0m\u001b[0mtranspose\u001b[0m\u001b[0;34m(\u001b[0m\u001b[0;36m1\u001b[0m\u001b[0;34m,\u001b[0m\u001b[0;36m2\u001b[0m\u001b[0;34m)\u001b[0m\u001b[0;34m\u001b[0m\u001b[0;34m\u001b[0m\u001b[0m\n\u001b[1;32m     54\u001b[0m         \u001b[0mx\u001b[0m \u001b[0;34m=\u001b[0m \u001b[0mtorch\u001b[0m\u001b[0;34m.\u001b[0m\u001b[0munsqueeze\u001b[0m\u001b[0;34m(\u001b[0m\u001b[0mx\u001b[0m\u001b[0;34m,\u001b[0m \u001b[0;36m3\u001b[0m\u001b[0;34m)\u001b[0m\u001b[0;34m\u001b[0m\u001b[0;34m\u001b[0m\u001b[0m\n\u001b[0;32m---> 55\u001b[0;31m         \u001b[0mx\u001b[0m \u001b[0;34m=\u001b[0m \u001b[0mself\u001b[0m\u001b[0;34m.\u001b[0m\u001b[0mdecoder\u001b[0m\u001b[0;34m(\u001b[0m\u001b[0mx\u001b[0m\u001b[0;34m)\u001b[0m \u001b[0;31m#( b, middle_channel, node_num  , 1) -> ( b, node_num, 1)\u001b[0m\u001b[0;34m\u001b[0m\u001b[0;34m\u001b[0m\u001b[0m\n\u001b[0m\u001b[1;32m     56\u001b[0m         \u001b[0mlogger\u001b[0m\u001b[0;34m.\u001b[0m\u001b[0minfo\u001b[0m\u001b[0;34m(\u001b[0m\u001b[0;34mf\"x shape : {x.shape}\"\u001b[0m\u001b[0;34m)\u001b[0m\u001b[0;34m\u001b[0m\u001b[0;34m\u001b[0m\u001b[0m\n\u001b[1;32m     57\u001b[0m \u001b[0;34m\u001b[0m\u001b[0m\n",
      "\u001b[0;32m~/anaconda3/envs/pytorch_timeseries/lib/python3.7/site-packages/torch/nn/modules/module.py\u001b[0m in \u001b[0;36m_call_impl\u001b[0;34m(self, *input, **kwargs)\u001b[0m\n\u001b[1;32m   1108\u001b[0m         if not (self._backward_hooks or self._forward_hooks or self._forward_pre_hooks or _global_backward_hooks\n\u001b[1;32m   1109\u001b[0m                 or _global_forward_hooks or _global_forward_pre_hooks):\n\u001b[0;32m-> 1110\u001b[0;31m             \u001b[0;32mreturn\u001b[0m \u001b[0mforward_call\u001b[0m\u001b[0;34m(\u001b[0m\u001b[0;34m*\u001b[0m\u001b[0minput\u001b[0m\u001b[0;34m,\u001b[0m \u001b[0;34m**\u001b[0m\u001b[0mkwargs\u001b[0m\u001b[0;34m)\u001b[0m\u001b[0;34m\u001b[0m\u001b[0;34m\u001b[0m\u001b[0m\n\u001b[0m\u001b[1;32m   1111\u001b[0m         \u001b[0;31m# Do not call functions when jit is used\u001b[0m\u001b[0;34m\u001b[0m\u001b[0;34m\u001b[0m\u001b[0;34m\u001b[0m\u001b[0m\n\u001b[1;32m   1112\u001b[0m         \u001b[0mfull_backward_hooks\u001b[0m\u001b[0;34m,\u001b[0m \u001b[0mnon_full_backward_hooks\u001b[0m \u001b[0;34m=\u001b[0m \u001b[0;34m[\u001b[0m\u001b[0;34m]\u001b[0m\u001b[0;34m,\u001b[0m \u001b[0;34m[\u001b[0m\u001b[0;34m]\u001b[0m\u001b[0;34m\u001b[0m\u001b[0;34m\u001b[0m\u001b[0m\n",
      "\u001b[0;32m/notebooks/pytorch_timeseries/torch_timeseries/nn/cnn_decoder.py\u001b[0m in \u001b[0;36mforward\u001b[0;34m(self, x)\u001b[0m\n\u001b[1;32m     36\u001b[0m     \u001b[0;32mdef\u001b[0m \u001b[0mforward\u001b[0m\u001b[0;34m(\u001b[0m\u001b[0mself\u001b[0m\u001b[0;34m,\u001b[0m \u001b[0mx\u001b[0m\u001b[0;34m)\u001b[0m\u001b[0;34m:\u001b[0m\u001b[0;34m\u001b[0m\u001b[0;34m\u001b[0m\u001b[0m\n\u001b[1;32m     37\u001b[0m         \u001b[0mx\u001b[0m \u001b[0;34m=\u001b[0m \u001b[0mnn\u001b[0m\u001b[0;34m.\u001b[0m\u001b[0mReLU\u001b[0m\u001b[0;34m(\u001b[0m\u001b[0mself\u001b[0m\u001b[0;34m.\u001b[0m\u001b[0mend_conv_1\u001b[0m\u001b[0;34m(\u001b[0m\u001b[0mx\u001b[0m\u001b[0;34m)\u001b[0m\u001b[0;34m)\u001b[0m\u001b[0;34m\u001b[0m\u001b[0;34m\u001b[0m\u001b[0m\n\u001b[0;32m---> 38\u001b[0;31m         \u001b[0mx\u001b[0m \u001b[0;34m=\u001b[0m \u001b[0mself\u001b[0m\u001b[0;34m.\u001b[0m\u001b[0mend_conv_2\u001b[0m\u001b[0;34m(\u001b[0m\u001b[0mx\u001b[0m\u001b[0;34m)\u001b[0m\u001b[0;34m\u001b[0m\u001b[0;34m\u001b[0m\u001b[0m\n\u001b[0m\u001b[1;32m     39\u001b[0m         \u001b[0;32mreturn\u001b[0m \u001b[0mx\u001b[0m\u001b[0;34m\u001b[0m\u001b[0;34m\u001b[0m\u001b[0m\n",
      "\u001b[0;32m~/anaconda3/envs/pytorch_timeseries/lib/python3.7/site-packages/torch/nn/modules/module.py\u001b[0m in \u001b[0;36m_call_impl\u001b[0;34m(self, *input, **kwargs)\u001b[0m\n\u001b[1;32m   1108\u001b[0m         if not (self._backward_hooks or self._forward_hooks or self._forward_pre_hooks or _global_backward_hooks\n\u001b[1;32m   1109\u001b[0m                 or _global_forward_hooks or _global_forward_pre_hooks):\n\u001b[0;32m-> 1110\u001b[0;31m             \u001b[0;32mreturn\u001b[0m \u001b[0mforward_call\u001b[0m\u001b[0;34m(\u001b[0m\u001b[0;34m*\u001b[0m\u001b[0minput\u001b[0m\u001b[0;34m,\u001b[0m \u001b[0;34m**\u001b[0m\u001b[0mkwargs\u001b[0m\u001b[0;34m)\u001b[0m\u001b[0;34m\u001b[0m\u001b[0;34m\u001b[0m\u001b[0m\n\u001b[0m\u001b[1;32m   1111\u001b[0m         \u001b[0;31m# Do not call functions when jit is used\u001b[0m\u001b[0;34m\u001b[0m\u001b[0;34m\u001b[0m\u001b[0;34m\u001b[0m\u001b[0m\n\u001b[1;32m   1112\u001b[0m         \u001b[0mfull_backward_hooks\u001b[0m\u001b[0;34m,\u001b[0m \u001b[0mnon_full_backward_hooks\u001b[0m \u001b[0;34m=\u001b[0m \u001b[0;34m[\u001b[0m\u001b[0;34m]\u001b[0m\u001b[0;34m,\u001b[0m \u001b[0;34m[\u001b[0m\u001b[0;34m]\u001b[0m\u001b[0;34m\u001b[0m\u001b[0;34m\u001b[0m\u001b[0m\n",
      "\u001b[0;32m~/anaconda3/envs/pytorch_timeseries/lib/python3.7/site-packages/torch/nn/modules/conv.py\u001b[0m in \u001b[0;36mforward\u001b[0;34m(self, input)\u001b[0m\n\u001b[1;32m    445\u001b[0m \u001b[0;34m\u001b[0m\u001b[0m\n\u001b[1;32m    446\u001b[0m     \u001b[0;32mdef\u001b[0m \u001b[0mforward\u001b[0m\u001b[0;34m(\u001b[0m\u001b[0mself\u001b[0m\u001b[0;34m,\u001b[0m \u001b[0minput\u001b[0m\u001b[0;34m:\u001b[0m \u001b[0mTensor\u001b[0m\u001b[0;34m)\u001b[0m \u001b[0;34m->\u001b[0m \u001b[0mTensor\u001b[0m\u001b[0;34m:\u001b[0m\u001b[0;34m\u001b[0m\u001b[0;34m\u001b[0m\u001b[0m\n\u001b[0;32m--> 447\u001b[0;31m         \u001b[0;32mreturn\u001b[0m \u001b[0mself\u001b[0m\u001b[0;34m.\u001b[0m\u001b[0m_conv_forward\u001b[0m\u001b[0;34m(\u001b[0m\u001b[0minput\u001b[0m\u001b[0;34m,\u001b[0m \u001b[0mself\u001b[0m\u001b[0;34m.\u001b[0m\u001b[0mweight\u001b[0m\u001b[0;34m,\u001b[0m \u001b[0mself\u001b[0m\u001b[0;34m.\u001b[0m\u001b[0mbias\u001b[0m\u001b[0;34m)\u001b[0m\u001b[0;34m\u001b[0m\u001b[0;34m\u001b[0m\u001b[0m\n\u001b[0m\u001b[1;32m    448\u001b[0m \u001b[0;34m\u001b[0m\u001b[0m\n\u001b[1;32m    449\u001b[0m \u001b[0;32mclass\u001b[0m \u001b[0mConv3d\u001b[0m\u001b[0;34m(\u001b[0m\u001b[0m_ConvNd\u001b[0m\u001b[0;34m)\u001b[0m\u001b[0;34m:\u001b[0m\u001b[0;34m\u001b[0m\u001b[0;34m\u001b[0m\u001b[0m\n",
      "\u001b[0;32m~/anaconda3/envs/pytorch_timeseries/lib/python3.7/site-packages/torch/nn/modules/conv.py\u001b[0m in \u001b[0;36m_conv_forward\u001b[0;34m(self, input, weight, bias)\u001b[0m\n\u001b[1;32m    442\u001b[0m                             _pair(0), self.dilation, self.groups)\n\u001b[1;32m    443\u001b[0m         return F.conv2d(input, weight, bias, self.stride,\n\u001b[0;32m--> 444\u001b[0;31m                         self.padding, self.dilation, self.groups)\n\u001b[0m\u001b[1;32m    445\u001b[0m \u001b[0;34m\u001b[0m\u001b[0m\n\u001b[1;32m    446\u001b[0m     \u001b[0;32mdef\u001b[0m \u001b[0mforward\u001b[0m\u001b[0;34m(\u001b[0m\u001b[0mself\u001b[0m\u001b[0;34m,\u001b[0m \u001b[0minput\u001b[0m\u001b[0;34m:\u001b[0m \u001b[0mTensor\u001b[0m\u001b[0;34m)\u001b[0m \u001b[0;34m->\u001b[0m \u001b[0mTensor\u001b[0m\u001b[0;34m:\u001b[0m\u001b[0;34m\u001b[0m\u001b[0;34m\u001b[0m\u001b[0m\n",
      "\u001b[0;31mTypeError\u001b[0m: conv2d() received an invalid combination of arguments - got (ReLU, Parameter, Parameter, tuple, tuple, tuple, int), but expected one of:\n * (Tensor input, Tensor weight, Tensor bias, tuple of ints stride, tuple of ints padding, tuple of ints dilation, int groups)\n      didn't match because some of the arguments have invalid types: (!ReLU!, !Parameter!, !Parameter!, !tuple!, !tuple!, !tuple!, int)\n * (Tensor input, Tensor weight, Tensor bias, tuple of ints stride, str padding, tuple of ints dilation, int groups)\n      didn't match because some of the arguments have invalid types: (!ReLU!, !Parameter!, !Parameter!, !tuple!, !tuple!, !tuple!, int)\n"
     ]
    }
   ],
   "source": [
    "from torch_timeseries.nn.mtcsg import MTCSG, _h_A\n",
    "import torch\n",
    "node_num = 8\n",
    "model = MTCSG(node_num , 130, middle_channel=16, seq_out=1,causal_aggr_layers=1)\n",
    "data = torch.randn(64, 1, 8, 130)\n",
    "model(data)\n",
    "\n",
    "\n",
    "h_A = _h_A(model.weighted_A, node_num )\n",
    "\n"
   ]
  },
  {
   "cell_type": "code",
   "execution_count": null,
   "metadata": {},
   "outputs": [],
   "source": []
  }
 ],
 "metadata": {
  "kernelspec": {
   "display_name": "Python 3.7.13 ('pytorch_timeseries')",
   "language": "python",
   "name": "python3"
  },
  "language_info": {
   "codemirror_mode": {
    "name": "ipython",
    "version": 3
   },
   "file_extension": ".py",
   "mimetype": "text/x-python",
   "name": "python",
   "nbconvert_exporter": "python",
   "pygments_lexer": "ipython3",
   "version": "3.7.13"
  },
  "orig_nbformat": 4,
  "vscode": {
   "interpreter": {
    "hash": "02961452df09cf2342d5d5c619ef0df6d9c449ec4970ef2f451d38545136d809"
   }
  }
 },
 "nbformat": 4,
 "nbformat_minor": 2
}
