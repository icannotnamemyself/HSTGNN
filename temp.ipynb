{
 "cells": [
  {
   "cell_type": "code",
   "execution_count": 18,
   "metadata": {},
   "outputs": [
    {
     "name": "stdout",
     "output_type": "stream",
     "text": [
      "Using downloaded and verified file: ./data/electricity/raw/electricity.txt.gz\n",
      "Extracting ./data/electricity/raw/electricity.txt.gz to ./data/electricity/raw\n"
     ]
    },
    {
     "name": "stderr",
     "output_type": "stream",
     "text": [
      "/root/anaconda3/envs/hfai/lib/python3.8/site-packages/tigramite-5.1.0.5-py3.8.egg/tigramite/data_processing.py:291: UserWarning: In analysis mode 'single', 'data'.shape = (10, 321); is it of shape (observations, variables)?\n",
      "  warnings.warn(\"In analysis mode 'single', 'data'.shape = ({}, {});\"\\\n"
     ]
    }
   ],
   "source": [
    "from torch_timeseries.datasets.electricity import Electricity\n",
    "e = Electricity('./data/')\n",
    "df = e.raw_df()\n",
    "\n",
    "\n",
    "import tigramite.pcmci\n",
    "import tigramite.independence_tests\n",
    "\n",
    "import tigramite.data_processing as pp\n",
    "df = pp.DataFrame(e.raw_data[0:10])\n",
    "\n",
    "# data = df[0:10]\n",
    "cond_ind_test = tigramite.independence_tests.ParCorr()\n",
    "pcmci =  tigramite.pcmci.PCMCI(df, cond_ind_test)\n",
    "\n",
    "\n"
   ]
  },
  {
   "cell_type": "code",
   "execution_count": null,
   "metadata": {},
   "outputs": [],
   "source": [
    "results = pcmci.run_pcmci(tau_max=2, pc_alpha=None)"
   ]
  },
  {
   "cell_type": "code",
   "execution_count": 12,
   "metadata": {},
   "outputs": [
    {
     "ename": "TypeError",
     "evalue": "get_corrected_pvalues() missing 1 required positional argument: 'p_matrix'",
     "output_type": "error",
     "traceback": [
      "\u001b[0;31m---------------------------------------------------------------------------\u001b[0m",
      "\u001b[0;31mTypeError\u001b[0m                                 Traceback (most recent call last)",
      "Cell \u001b[0;32mIn [12], line 1\u001b[0m\n\u001b[0;32m----> 1\u001b[0m \u001b[43mp_matrix\u001b[49m\u001b[38;5;241;43m.\u001b[39;49m\u001b[43mget_corrected_pvalues\u001b[49m\u001b[43m(\u001b[49m\u001b[43m)\u001b[49m\n",
      "\u001b[0;31mTypeError\u001b[0m: get_corrected_pvalues() missing 1 required positional argument: 'p_matrix'"
     ]
    }
   ],
   "source": [
    "p_matrix.get_corrected_pvalues()"
   ]
  },
  {
   "cell_type": "code",
   "execution_count": 4,
   "metadata": {},
   "outputs": [],
   "source": []
  },
  {
   "cell_type": "code",
   "execution_count": 8,
   "metadata": {},
   "outputs": [
    {
     "ename": "TypeError",
     "evalue": "'PCMCI' object is not subscriptable",
     "output_type": "error",
     "traceback": [
      "\u001b[0;31m---------------------------------------------------------------------------\u001b[0m",
      "\u001b[0;31mTypeError\u001b[0m                                 Traceback (most recent call last)",
      "Cell \u001b[0;32mIn [8], line 1\u001b[0m\n\u001b[0;32m----> 1\u001b[0m \u001b[43mp_matrix\u001b[49m\u001b[43m[\u001b[49m\u001b[38;5;241;43m0\u001b[39;49m\u001b[43m]\u001b[49m\n",
      "\u001b[0;31mTypeError\u001b[0m: 'PCMCI' object is not subscriptable"
     ]
    }
   ],
   "source": [
    "p_matrix"
   ]
  },
  {
   "cell_type": "code",
   "execution_count": 3,
   "metadata": {},
   "outputs": [
    {
     "ename": "AttributeError",
     "evalue": "'DataFrame' object has no attribute 'var_names'",
     "output_type": "error",
     "traceback": [
      "\u001b[0;31m---------------------------------------------------------------------------\u001b[0m",
      "\u001b[0;31mAttributeError\u001b[0m                            Traceback (most recent call last)",
      "Cell \u001b[0;32mIn [3], line 2\u001b[0m\n\u001b[1;32m      1\u001b[0m cond_ind_test \u001b[38;5;241m=\u001b[39m tigramite\u001b[38;5;241m.\u001b[39mindependence_tests\u001b[38;5;241m.\u001b[39mParCorr()\n\u001b[0;32m----> 2\u001b[0m p_matrix \u001b[38;5;241m=\u001b[39m \u001b[43mtigramite\u001b[49m\u001b[38;5;241;43m.\u001b[39;49m\u001b[43mpcmci\u001b[49m\u001b[38;5;241;43m.\u001b[39;49m\u001b[43mPCMCI\u001b[49m\u001b[43m(\u001b[49m\u001b[43mdf\u001b[49m\u001b[43m,\u001b[49m\u001b[43m \u001b[49m\u001b[43mcond_ind_test\u001b[49m\u001b[43m)\u001b[49m\n",
      "File \u001b[0;32m~/anaconda3/envs/hfai/lib/python3.8/site-packages/tigramite-5.1.0.5-py3.8.egg/tigramite/pcmci.py:160\u001b[0m, in \u001b[0;36mPCMCI.__init__\u001b[0;34m(self, dataframe, cond_ind_test, selected_variables, verbosity)\u001b[0m\n\u001b[1;32m    158\u001b[0m \u001b[39mself\u001b[39m\u001b[39m.\u001b[39mverbosity \u001b[39m=\u001b[39m verbosity\n\u001b[1;32m    159\u001b[0m \u001b[39m# Set the variable names \u001b[39;00m\n\u001b[0;32m--> 160\u001b[0m \u001b[39mself\u001b[39m\u001b[39m.\u001b[39mvar_names \u001b[39m=\u001b[39m \u001b[39mself\u001b[39;49m\u001b[39m.\u001b[39;49mdataframe\u001b[39m.\u001b[39;49mvar_names\n\u001b[1;32m    162\u001b[0m \u001b[39m# Raise error if selected_variables is set\u001b[39;00m\n\u001b[1;32m    163\u001b[0m \u001b[39mif\u001b[39;00m selected_variables \u001b[39mis\u001b[39;00m \u001b[39mnot\u001b[39;00m \u001b[39mNone\u001b[39;00m:\n",
      "File \u001b[0;32m~/anaconda3/envs/hfai/lib/python3.8/site-packages/pandas/core/generic.py:5575\u001b[0m, in \u001b[0;36mNDFrame.__getattr__\u001b[0;34m(self, name)\u001b[0m\n\u001b[1;32m   5568\u001b[0m \u001b[39mif\u001b[39;00m (\n\u001b[1;32m   5569\u001b[0m     name \u001b[39mnot\u001b[39;00m \u001b[39min\u001b[39;00m \u001b[39mself\u001b[39m\u001b[39m.\u001b[39m_internal_names_set\n\u001b[1;32m   5570\u001b[0m     \u001b[39mand\u001b[39;00m name \u001b[39mnot\u001b[39;00m \u001b[39min\u001b[39;00m \u001b[39mself\u001b[39m\u001b[39m.\u001b[39m_metadata\n\u001b[1;32m   5571\u001b[0m     \u001b[39mand\u001b[39;00m name \u001b[39mnot\u001b[39;00m \u001b[39min\u001b[39;00m \u001b[39mself\u001b[39m\u001b[39m.\u001b[39m_accessors\n\u001b[1;32m   5572\u001b[0m     \u001b[39mand\u001b[39;00m \u001b[39mself\u001b[39m\u001b[39m.\u001b[39m_info_axis\u001b[39m.\u001b[39m_can_hold_identifiers_and_holds_name(name)\n\u001b[1;32m   5573\u001b[0m ):\n\u001b[1;32m   5574\u001b[0m     \u001b[39mreturn\u001b[39;00m \u001b[39mself\u001b[39m[name]\n\u001b[0;32m-> 5575\u001b[0m \u001b[39mreturn\u001b[39;00m \u001b[39mobject\u001b[39;49m\u001b[39m.\u001b[39;49m\u001b[39m__getattribute__\u001b[39;49m(\u001b[39mself\u001b[39;49m, name)\n",
      "\u001b[0;31mAttributeError\u001b[0m: 'DataFrame' object has no attribute 'var_names'"
     ]
    }
   ],
   "source": [
    "cond_ind_test = tigramite.independence_tests.ParCorr()\n",
    "p_matrix = tigramite.pcmci.PCMCI(df, cond_ind_test)"
   ]
  },
  {
   "cell_type": "code",
   "execution_count": 13,
   "metadata": {},
   "outputs": [
    {
     "data": {
      "text/plain": [
       "({0: 26304},\n",
       " 321,\n",
       " <bound method PCMCI.convert_to_string_graph of <tigramite.pcmci.PCMCI object at 0x7fd4aada91c0>>)"
      ]
     },
     "execution_count": 13,
     "metadata": {},
     "output_type": "execute_result"
    }
   ],
   "source": [
    "p_matrix.T, p_matrix.N,p_matrix.convert_to_string_graph()"
   ]
  },
  {
   "cell_type": "code",
   "execution_count": null,
   "metadata": {},
   "outputs": [],
   "source": []
  }
 ],
 "metadata": {
  "kernelspec": {
   "display_name": "Python 3.8.10 ('hfai')",
   "language": "python",
   "name": "python3"
  },
  "language_info": {
   "codemirror_mode": {
    "name": "ipython",
    "version": 3
   },
   "file_extension": ".py",
   "mimetype": "text/x-python",
   "name": "python",
   "nbconvert_exporter": "python",
   "pygments_lexer": "ipython3",
   "version": "3.8.10"
  },
  "orig_nbformat": 4,
  "vscode": {
   "interpreter": {
    "hash": "ed1c49e899449032dc80e7232776c3d8be93d2f4be5926c08005de82503dd622"
   }
  }
 },
 "nbformat": 4,
 "nbformat_minor": 2
}
