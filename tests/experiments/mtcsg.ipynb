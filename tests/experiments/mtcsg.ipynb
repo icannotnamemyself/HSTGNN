{
 "cells": [
  {
   "cell_type": "code",
   "execution_count": 2,
   "metadata": {},
   "outputs": [
    {
     "name": "stderr",
     "output_type": "stream",
     "text": [
      "/root/anaconda3/envs/pytorch_timeseries/lib/python3.7/site-packages/tqdm/auto.py:22: TqdmWarning: IProgress not found. Please update jupyter and ipywidgets. See https://ipywidgets.readthedocs.io/en/stable/user_install.html\n",
      "  from .autonotebook import tqdm as notebook_tqdm\n"
     ]
    }
   ],
   "source": [
    "import math\n",
    "import sys\n",
    "import numpy as np\n",
    "import os\n",
    "\n",
    "from torch_timeseries.datasets.electricity import Electricity\n",
    "from torch_timeseries.nn.net import Net, Optim\n",
    "from torch_timeseries.nn.mtcsg import MTCSG\n",
    "sys.path.insert(0, os.path.abspath('/notebooks/pytorch_timeseries'))\n",
    "from torch_timeseries.datasets import ExchangeRate\n",
    "from torch_timeseries.datasets.dataset import Dataset\n",
    "from torch.utils.data import DataLoader\n",
    "from torch_timeseries.data.scaler import Scaler\n",
    "import torch\n",
    "import torch.nn as nn\n",
    "from torch.utils.data.dataset import random_split, Subset\n",
    "\n",
    "from torch.utils.data import RandomSampler\n",
    "from torch.optim import Optimizer\n",
    "import torch.optim as optim\n",
    "from torch_timeseries.data.scaler import MaxAbsScaler\n",
    "\n",
    "\n",
    "\n"
   ]
  },
  {
   "cell_type": "code",
   "execution_count": 3,
   "metadata": {},
   "outputs": [],
   "source": [
    "from torch_timeseries.pipelines.mtcsg_train_single_step import *"
   ]
  },
  {
   "cell_type": "code",
   "execution_count": 10,
   "metadata": {},
   "outputs": [
    {
     "name": "stdout",
     "output_type": "stream",
     "text": [
      "Using downloaded and verified file: /notebooks/pytorch_timeseries/data/electricity/raw/electricity.txt.gz\n",
      "Extracting /notebooks/pytorch_timeseries/data/electricity/raw/electricity.txt.gz to /notebooks/pytorch_timeseries/data/electricity/raw\n"
     ]
    }
   ],
   "source": [
    "device = 'cuda:3'\n",
    "window = 168\n",
    "horizon = 3\n",
    "epoches = 50\n",
    "dataset = Electricity(root='/notebooks/pytorch_timeseries/data', window=window, horizon=horizon)\n",
    "model = MTCSG(node_num=dataset.feature_nums,seq_len=dataset.window,in_dim=1, middle_channel=64, seq_out=1)\n",
    "optimizer = optim.Adam(model.parameters(), lr=0.001, weight_decay=0.0001)\n",
    "# optimizer=Optim(model.parameters(),'adam', 0.001, 5, lr_decay=0.00001)\n",
    "scaler = MaxAbsScaler(device)\n"
   ]
  },
  {
   "cell_type": "code",
   "execution_count": 5,
   "metadata": {},
   "outputs": [],
   "source": [
    "c_A = 1\n",
    "lambda_A = 0\n",
    "total_runs = 3\n",
    "k_max_iter = 3\n",
    "h_A_new = torch.tensor(1.)"
   ]
  },
  {
   "cell_type": "code",
   "execution_count": null,
   "metadata": {},
   "outputs": [],
   "source": [
    "train_pipe(dataset, device, scaler, model,  torch.nn.L1Loss(size_average=False), optimizer, epoches, c_A =c_A ,lambda_A=lambda_A)"
   ]
  },
  {
   "cell_type": "code",
   "execution_count": 13,
   "metadata": {},
   "outputs": [],
   "source": [
    "torch.cuda.empty_cache()\n",
    "torch.cuda.reset_peak_memory_stats()\n"
   ]
  },
  {
   "cell_type": "code",
   "execution_count": null,
   "metadata": {},
   "outputs": [],
   "source": []
  }
 ],
 "metadata": {
  "kernelspec": {
   "display_name": "Python 3.7.13 ('pytorch_timeseries')",
   "language": "python",
   "name": "python3"
  },
  "language_info": {
   "codemirror_mode": {
    "name": "ipython",
    "version": 3
   },
   "file_extension": ".py",
   "mimetype": "text/x-python",
   "name": "python",
   "nbconvert_exporter": "python",
   "pygments_lexer": "ipython3",
   "version": "3.7.13"
  },
  "orig_nbformat": 4,
  "vscode": {
   "interpreter": {
    "hash": "02961452df09cf2342d5d5c619ef0df6d9c449ec4970ef2f451d38545136d809"
   }
  }
 },
 "nbformat": 4,
 "nbformat_minor": 2
}
