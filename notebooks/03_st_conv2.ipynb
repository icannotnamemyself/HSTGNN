{
 "cells": [
  {
   "cell_type": "code",
   "execution_count": 3,
   "metadata": {},
   "outputs": [],
   "source": [
    "import torch\n",
    "from torch.nn import Linear, Parameter\n",
    "from torch_geometric.nn import MessagePassing\n",
    "from torch_geometric.nn import FAConv,HeteroConv\n",
    "from torch_geometric.nn.conv import MessagePassing\n",
    "from torch_geometric.nn.dense.linear import Linear\n",
    "from torch_geometric.nn.inits import zeros\n",
    "from torch_geometric.typing import Adj, OptTensor, PairTensor\n",
    "from torch_geometric.utils import add_remaining_self_loops\n",
    "from torch_geometric.utils.num_nodes import maybe_num_nodes\n",
    "from torch_scatter import scatter_add\n",
    "from torch_sparse import SparseTensor, fill_diag, matmul, mul\n",
    "from torch_sparse import sum as sparsesum\n",
    "from torch_sparse import SparseTensor, fill_diag\n",
    "def hetero_directed_norm(edge_index, edge_weight=None, num_nodes=None,\n",
    "              dtype=None):\n",
    "\n",
    "    if isinstance(edge_index, SparseTensor):\n",
    "        raise NotImplementedError(\"Operation of Sparse Tensor Not defined!\")\n",
    "    else:\n",
    "        num_nodes = maybe_num_nodes(edge_index, num_nodes)\n",
    "\n",
    "        if edge_weight is None:\n",
    "            edge_weight = torch.ones((edge_index.size(1), ), dtype=dtype,\n",
    "                                     device=edge_index.device)\n",
    "\n",
    "        row, col = edge_index[0], edge_index[1]\n",
    "        \n",
    "        # in degree of every node |N|\n",
    "        in_deg = scatter_add(edge_weight, col, dim=0, dim_size=num_nodes)\n",
    "\n",
    "        # out degree of every node |N|\n",
    "        out_deg = scatter_add(edge_weight, row, dim=0, dim_size=num_nodes)\n",
    "\n",
    "        # nomalization\n",
    "        in_deg_inv_sqrt = in_deg.pow_(-0.5)\n",
    "        out_deg_inv_sqrt = out_deg.pow_(-0.5)\n",
    "        in_deg_inv_sqrt.masked_fill_(in_deg_inv_sqrt == float('inf'), 0)\n",
    "        out_deg_inv_sqrt.masked_fill_(out_deg_inv_sqrt == float('inf'), 0)\n",
    "\n",
    "        # source node out degree, target node in degree \n",
    "        return out_deg_inv_sqrt[row] * edge_weight * in_deg_inv_sqrt[col]\n",
    "\n",
    "\n",
    "\n"
   ]
  },
  {
   "cell_type": "code",
   "execution_count": 4,
   "metadata": {},
   "outputs": [],
   "source": [
    "\n",
    "\n",
    "class TSConv(MessagePassing):\n",
    "    # convolution for relation < t -> s >\n",
    "    def __init__(self, in_channels, out_channels, eps=0.9):\n",
    "        super().__init__(aggr='add')  # \"Add\" aggregation (Step 5).\n",
    "        self.eps = eps\n",
    "        self.att_g = Linear(2*in_channels,1, bias=False)\n",
    "        self.reset_parameters()\n",
    "\n",
    "    def reset_parameters(self):\n",
    "        self.att_g.reset_parameters()\n",
    "\n",
    "    def forward(self, x, edge_index, edge_weight=None):\n",
    "        # x has shape [N+T, in_channels]\n",
    "        # edge_index has shape [2, E]\n",
    "        # edge_index has shape [E, weight_dim]\n",
    "        \n",
    "        xt = x[0]\n",
    "        xs = x[1]\n",
    "        \n",
    "        x = torch.concat([xs, xt], dim=0)\n",
    "        \n",
    "        edge_weight = hetero_directed_norm(  # yapf: disable\n",
    "            edge_index, edge_weight, x.size(self.node_dim), dtype=x.dtype)\n",
    "\n",
    "        out = self.propagate(edge_index, x=x, edge_weight=edge_weight)\n",
    "        \n",
    "        # plus \n",
    "        out = out + x*self.eps\n",
    "        \n",
    "        return out\n",
    "\n",
    "    def message(self,x_i, x_j, edge_weight):\n",
    "        # x_j has shape [|E|, out_channels] , The first n edges are edges of  spatial nodes\n",
    "        # x_j denotes a lifted tensor, which contains the source node features of each edge, source_node(如果flow 是 source_to_target)\n",
    "        # 要从从有向图的角度来解释 edge_index 有几个，就有几个x_\n",
    "        \n",
    "        # 对 st , ts分别定义\n",
    "        \n",
    "        alpha_i_j = self.att_g(torch.concat([x_i, x_j], axis=1)).tanh().squeeze(-1) # ( |E|, )    \n",
    "        \n",
    "        return x_j *( alpha_i_j * edge_weight ).view(-1,1)\n",
    "\n",
    "\n",
    "\n",
    "\n",
    "class STConv(MessagePassing):\n",
    "    # convolution for relation < s -> t >\n",
    "    def __init__(self, in_channels, out_channels, eps=0.9):\n",
    "        super().__init__(aggr='add')  # \"Add\" aggregation (Step 5).\n",
    "        self.eps = eps\n",
    "        self.s_trans = torch.nn.ELU()\n",
    "        self.t_trans = torch.nn.ReLU()\n",
    "        \n",
    "        self.att_g = Linear(2*in_channels,1, bias=False)\n",
    "        self.reset_parameters()\n",
    "\n",
    "    def reset_parameters(self):\n",
    "        self.att_g.reset_parameters()\n",
    "        # self.bias.data.zero_()\n",
    "\n",
    "    def forward(self, x, edge_index, edge_weight=None):\n",
    "        # x has shape [N+T, in_channels]\n",
    "        # edge_index has shape [2, E]\n",
    "        # edge_index has shape [E, weight_dim]\n",
    "        xs = x[0]\n",
    "        xt = x[1]\n",
    "        \n",
    "        x = torch.concat([xs, xt], dim=0)\n",
    "        \n",
    "        \n",
    "        edge_weight = hetero_directed_norm(  # yapf: disable\n",
    "            edge_index, None, x.size(self.node_dim), dtype=x.dtype)\n",
    "        out = self.propagate(edge_index, x=x, edge_weight=edge_weight)\n",
    "        # plus \n",
    "        out = out + x*self.eps\n",
    "        \n",
    "        return out\n",
    "\n",
    "    def message(self,x_i, x_j, edge_weight):\n",
    "        # x_j has shape [|E|, out_channels] , The first n edges are edges of  spatial nodes\n",
    "        # x_j denotes a lifted tensor, which contains the source node features of each edge, source_node(如果flow 是 source_to_target)\n",
    "        # 要从从有向图的角度来解释 edge_index 有几个，就有几个x_\n",
    "        \n",
    "        # 对 st , ts分别定义\n",
    "        alpha_i_j = self.att_g(torch.concat([x_i, x_j], axis=1)).tanh().squeeze(-1) # ( |E|, )    \n",
    "        \n",
    "        return x_j *( alpha_i_j * edge_weight ).view(-1,1)"
   ]
  },
  {
   "cell_type": "code",
   "execution_count": null,
   "metadata": {},
   "outputs": [],
   "source": []
  },
  {
   "cell_type": "code",
   "execution_count": 5,
   "metadata": {},
   "outputs": [
    {
     "data": {
      "text/plain": [
       "tensor([[0, 0, 0, 0, 1, 1, 1, 1, 2, 2, 3, 3, 4, 4, 5, 5],\n",
       "        [2, 3, 4, 5, 2, 3, 4, 5, 0, 1, 0, 1, 0, 1, 0, 1]])"
      ]
     },
     "execution_count": 5,
     "metadata": {},
     "output_type": "execute_result"
    }
   ],
   "source": [
    "n_nodes = 2\n",
    "seq_len = 4\n",
    "\n",
    "xn = torch.randn(n_nodes, 128)\n",
    "xt = torch.randn(seq_len, 128)\n",
    "\n",
    "\n",
    "tmp = torch.zeros((n_nodes + seq_len, n_nodes + seq_len)) # (NxT , NxT)\n",
    "tmp[:n_nodes, n_nodes:] = 1\n",
    "tmp[n_nodes:, :n_nodes] = 1\n",
    "edge_index = torch.nonzero(tmp).T\n",
    "edge_index\n"
   ]
  },
  {
   "cell_type": "code",
   "execution_count": 6,
   "metadata": {},
   "outputs": [],
   "source": [
    "edge_nt = torch.stack((\n",
    "    edge_index[0][edge_index[0] < n_nodes], # source\n",
    "    edge_index[1][edge_index[1] >= n_nodes] # target\n",
    "    ))\n",
    "edge_tn = torch.stack((\n",
    "    edge_index[0][edge_index[0] >= n_nodes],\n",
    "    edge_index[1][edge_index[1] < n_nodes]\n",
    "    ))               \n"
   ]
  },
  {
   "cell_type": "code",
   "execution_count": 7,
   "metadata": {},
   "outputs": [],
   "source": [
    "hetero_conv = HeteroConv({\n",
    "    ('s', 's2t', 't'): STConv(128, 128, eps=0.9),\n",
    "    ('t', 't2s', 's'): TSConv(128, 128, eps=0.9),\n",
    "}, aggr='sum')\n",
    "x_dict = {\n",
    "    's': xn,\n",
    "    't': xt\n",
    "}\n",
    "edge_index_dict = {\n",
    "    ('s', 's2t', 't'): edge_nt,\n",
    "    ('t', 't2s', 's'): edge_tn,\n",
    "}\n",
    "out_dict = hetero_conv(x_dict,edge_index_dict )\n"
   ]
  },
  {
   "cell_type": "code",
   "execution_count": 14,
   "metadata": {},
   "outputs": [
    {
     "data": {
      "text/plain": [
       "torch.Size([6, 128])"
      ]
     },
     "execution_count": 14,
     "metadata": {},
     "output_type": "execute_result"
    }
   ],
   "source": [
    "out_dict['t'].shape"
   ]
  },
  {
   "cell_type": "code",
   "execution_count": 12,
   "metadata": {},
   "outputs": [
    {
     "data": {
      "text/plain": [
       "torch.Size([12, 128])"
      ]
     },
     "execution_count": 12,
     "metadata": {},
     "output_type": "execute_result"
    }
   ],
   "source": [
    "torch.cat([out_dict['s'], out_dict['t']], dim=0).shape"
   ]
  },
  {
   "cell_type": "code",
   "execution_count": null,
   "metadata": {},
   "outputs": [],
   "source": []
  }
 ],
 "metadata": {
  "kernelspec": {
   "display_name": "py38",
   "language": "python",
   "name": "python3"
  },
  "language_info": {
   "codemirror_mode": {
    "name": "ipython",
    "version": 3
   },
   "file_extension": ".py",
   "mimetype": "text/x-python",
   "name": "python",
   "nbconvert_exporter": "python",
   "pygments_lexer": "ipython3",
   "version": "3.8.16"
  },
  "orig_nbformat": 4
 },
 "nbformat": 4,
 "nbformat_minor": 2
}
