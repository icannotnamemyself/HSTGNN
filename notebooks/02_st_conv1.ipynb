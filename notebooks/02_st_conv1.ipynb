{
 "cells": [
  {
   "cell_type": "code",
   "execution_count": 2,
   "metadata": {},
   "outputs": [],
   "source": [
    "import torch\n",
    "from torch.nn import Linear, Parameter\n",
    "from torch_geometric.nn import MessagePassing\n",
    "class STHeteroConv(MessagePassing):\n",
    "    def __init__(self,node_num, in_s_channels, i_t_channels, hidden_channels, out_channels, eps=1.0):\n",
    "        super().__init__(aggr='add')  # \"Add\" aggregation (Step 5).\n",
    "        self.s_lin = Linear(in_s_channels, hidden_channels, bias=False)\n",
    "        self.t_lin = Linear(i_t_channels, hidden_channels, bias=False)\n",
    "        # self.bias = Parameter(torch.empty(out_channels))\n",
    "        self.eps = eps\n",
    "        self.s_trans = torch.nn.ELU()\n",
    "        self.t_trans = torch.nn.ReLU()\n",
    "\n",
    "        # self.spatial_trans = torch.nn.Parameter(hidden_channels, out_)\n",
    "        \n",
    "        self.node_num = node_num\n",
    "        self.reset_parameters()\n",
    "\n",
    "    def reset_parameters(self):\n",
    "        self.s_lin.reset_parameters()\n",
    "        self.t_lin.reset_parameters()\n",
    "        # self.bias.data.zero_()\n",
    "\n",
    "    def forward(self, x, edge_index, edge_weight=None):\n",
    "        # x has shape [N, in_channels]\n",
    "        # edge_index has shape [2, E]\n",
    "        # edge_index has shape [E, weight_dim]\n",
    "        print(x.shape)\n",
    "        xs = self.s_lin(x[:self.node_num, :]) # diff \n",
    "        xt = self.t_lin(x[self.node_num:, :]) # not diff\n",
    "        \n",
    "        x = torch.concat([xs, xt], axis=0)  # (N + T , out_channels)\n",
    "        \n",
    "        out = self.propagate(edge_index, x=x)\n",
    "        \n",
    "        # plus \n",
    "        out = out + x*self.eps\n",
    "        \n",
    "        return out\n",
    "\n",
    "    def message(self,x_i, x_j):\n",
    "        # x_j has shape [|E|, out_channels] , The first n edges are edges of  spatial nodes\n",
    "        # x_j denotes a lifted tensor, which contains the source node features of each edge, source_node(如果flow 是 source_to_target)\n",
    "        # 要从从有向图的角度来解释 edge_index 有几个，就有几个x_j\n",
    "        x_j = torch.concat([\n",
    "            self.s_trans(x_j[self.node_num:]), # information aggregate to temporal node\n",
    "            self.t_trans( x_j[:self.node_num]) # information aggregate to spatial node\n",
    "        ], axis=0)\n",
    "        \n",
    "        return x_j\n"
   ]
  },
  {
   "cell_type": "code",
   "execution_count": 3,
   "metadata": {},
   "outputs": [
    {
     "data": {
      "text/plain": [
       "tensor([[4, 7, 7, 4, 4, 5, 7],\n",
       "        [2, 3, 7, 1, 2, 1, 3]])"
      ]
     },
     "execution_count": 3,
     "metadata": {},
     "output_type": "execute_result"
    }
   ],
   "source": [
    "x = torch.randn(8, 128)\n",
    "\n",
    "# edge_index = torch.rand(2,10)\n",
    "# edge_index = torch.bernoulli(edge_index)\n",
    "edge_index = torch.concat([torch.randint(low=1, high=8,size=(1,7)), torch.randint(low=1, high=8,size=(1,7))],axis=0)\n",
    "edge_index =  edge_index.to(dtype=torch.int64)\n",
    "edge_index\n",
    "\n"
   ]
  },
  {
   "cell_type": "code",
   "execution_count": 5,
   "metadata": {},
   "outputs": [
    {
     "name": "stdout",
     "output_type": "stream",
     "text": [
      "torch.Size([8, 128])\n"
     ]
    },
    {
     "data": {
      "text/plain": [
       "tensor([[ 0.0171,  0.6879,  0.8599,  ...,  0.2926,  0.2404, -0.5903],\n",
       "        [-1.5831,  1.6342, -0.8668,  ..., -1.1076, -1.5462,  1.4954],\n",
       "        [ 1.7546, -0.5609,  0.7079,  ..., -0.1980, -0.2070, -0.8605],\n",
       "        ...,\n",
       "        [-0.0771,  0.3812,  0.6522,  ...,  0.0877,  0.2224,  0.7678],\n",
       "        [ 0.1084,  0.3915, -0.5542,  ...,  0.0057, -0.3616,  0.2899],\n",
       "        [-1.0070,  0.7585,  0.5640,  ..., -0.9495, -0.9691,  1.1126]],\n",
       "       grad_fn=<AddBackward0>)"
      ]
     },
     "execution_count": 5,
     "metadata": {},
     "output_type": "execute_result"
    }
   ],
   "source": [
    "conv = STHeteroConv(3, 128, 128, 128, 128)\n",
    "conv(x, edge_index)"
   ]
  },
  {
   "cell_type": "code",
   "execution_count": 32,
   "metadata": {},
   "outputs": [
    {
     "data": {
      "text/plain": [
       "tensor([[ 0.0650,  0.9773, -0.1229,  ...,  0.9194,  1.0958,  1.1487],\n",
       "        [ 1.6506, -0.4570,  0.1573,  ..., -0.9247, -0.6433,  1.4225],\n",
       "        [-1.9737,  1.1208,  0.0160,  ...,  1.2821, -2.5599,  1.0460],\n",
       "        ...,\n",
       "        [-0.7306, -1.5670, -0.4000,  ..., -0.4804, -1.5296,  0.5681],\n",
       "        [ 0.3970,  0.7127,  0.3103,  ..., -0.6843,  0.8229,  0.8038],\n",
       "        [ 0.6945,  0.1936,  0.6469,  ..., -1.1334, -0.2593, -0.5858]])"
      ]
     },
     "execution_count": 32,
     "metadata": {},
     "output_type": "execute_result"
    }
   ],
   "source": [
    "x"
   ]
  },
  {
   "cell_type": "code",
   "execution_count": null,
   "metadata": {},
   "outputs": [],
   "source": []
  }
 ],
 "metadata": {
  "kernelspec": {
   "display_name": "py38",
   "language": "python",
   "name": "python3"
  },
  "language_info": {
   "codemirror_mode": {
    "name": "ipython",
    "version": 3
   },
   "file_extension": ".py",
   "mimetype": "text/x-python",
   "name": "python",
   "nbconvert_exporter": "python",
   "pygments_lexer": "ipython3",
   "version": "3.8.16"
  },
  "orig_nbformat": 4
 },
 "nbformat": 4,
 "nbformat_minor": 2
}
