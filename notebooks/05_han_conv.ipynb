{
 "cells": [
  {
   "cell_type": "code",
   "execution_count": 12,
   "metadata": {},
   "outputs": [
    {
     "name": "stdout",
     "output_type": "stream",
     "text": [
      "{'paper': tensor([[0.0082, 0.0461, 0.1396, 0.0509, 0.1497, 0.0000, 0.0000, 0.0592, 0.0000,\n",
      "         0.0000, 0.0000, 0.2453, 0.0871, 0.0000, 0.2320, 0.2721, 0.0000, 0.0000,\n",
      "         0.0000, 0.0000, 0.2303, 0.0000, 0.3004, 0.0000, 0.0000, 0.0000, 0.2314,\n",
      "         0.0000, 0.0000, 0.3704, 0.0080, 0.0000],\n",
      "        [0.0000, 0.0000, 0.4850, 0.1628, 0.0493, 0.2898, 0.0000, 0.0000, 0.2588,\n",
      "         0.0678, 0.3150, 0.4700, 0.0000, 0.2587, 0.2546, 0.3685, 0.0936, 0.0643,\n",
      "         0.8218, 0.3512, 0.0654, 0.1216, 0.3058, 0.0000, 0.3133, 0.0973, 0.0000,\n",
      "         0.0000, 1.0420, 0.8384, 0.2642, 0.0000],\n",
      "        [0.0000, 0.1478, 0.0000, 0.0245, 0.0000, 0.0000, 0.0000, 0.0000, 0.1340,\n",
      "         0.0000, 0.0000, 0.0000, 0.0416, 0.1043, 0.0000, 0.0077, 0.2696, 0.0000,\n",
      "         0.3268, 0.2465, 0.5880, 0.1105, 0.0000, 0.2060, 0.0000, 0.2005, 0.0000,\n",
      "         0.4250, 0.3597, 0.6593, 0.0000, 0.0410],\n",
      "        [0.0000, 0.0000, 0.0000, 0.0000, 0.0000, 0.0000, 0.0000, 0.0000, 0.0000,\n",
      "         0.0000, 0.0000, 0.0000, 0.0000, 0.0000, 0.0000, 0.0000, 0.0000, 0.0000,\n",
      "         0.0000, 0.0000, 0.0000, 0.0000, 0.0000, 0.0000, 0.0000, 0.0000, 0.0000,\n",
      "         0.0000, 0.0000, 0.0000, 0.0000, 0.0000]], grad_fn=<SumBackward1>), 'author': tensor([[0.0000e+00, 0.0000e+00, 1.1615e-01, 3.2200e-01, 9.7517e-02, 1.5421e-01,\n",
      "         0.0000e+00, 0.0000e+00, 2.0350e-01, 0.0000e+00, 6.2287e-01, 0.0000e+00,\n",
      "         0.0000e+00, 0.0000e+00, 0.0000e+00, 7.2869e-01, 1.8508e-01, 0.0000e+00,\n",
      "         1.0715e+00, 0.0000e+00, 1.2928e-01, 1.8611e-01, 6.0479e-01, 0.0000e+00,\n",
      "         1.9750e-01, 0.0000e+00, 0.0000e+00, 0.0000e+00, 7.6574e-01, 1.1033e+00,\n",
      "         3.9295e-01, 0.0000e+00],\n",
      "        [0.0000e+00, 6.2514e-01, 7.1804e-01, 0.0000e+00, 0.0000e+00, 0.0000e+00,\n",
      "         4.2104e-03, 0.0000e+00, 9.0346e-05, 1.0346e-01, 0.0000e+00, 1.3552e-02,\n",
      "         0.0000e+00, 0.0000e+00, 3.4119e-01, 2.3551e-01, 2.2921e-01, 1.6850e-01,\n",
      "         0.0000e+00, 1.1723e+00, 9.3181e-04, 5.3195e-01, 0.0000e+00, 0.0000e+00,\n",
      "         4.8960e-01, 8.9726e-01, 0.0000e+00, 0.0000e+00, 0.0000e+00, 7.3015e-01,\n",
      "         1.0717e-01, 1.4987e+00]], grad_fn=<SumBackward1>)}\n"
     ]
    }
   ],
   "source": [
    "from torch_geometric.nn import HANConv\n",
    "from torch_geometric.data import Data\n",
    "import torch\n",
    "\n",
    "# 定义输入维度和输出维度\n",
    "in_channels = {'paper': 128, 'author': 64}\n",
    "out_channels = 32\n",
    "\n",
    "# 定义元路径\n",
    "metadatas = [\n",
    "    ['author', 'paper'],\n",
    "    [('paper', 'cites', 'paper'),('paper', 'written-by', 'author'), ('author', 'written-by', 'paper')]\n",
    "]\n",
    "\n",
    "# 初始化 HANConv\n",
    "conv = HANConv(in_channels, out_channels, metadatas)\n",
    "\n",
    "# 示例数据\n",
    "x_dict = {'paper': torch.randn(4, 128), 'author': torch.randn(2, 64)}\n",
    "edge_index_dict = {\n",
    "    ('paper', 'written-by', 'author'): torch.tensor([[0, 3], [0, 1]], dtype=torch.long),\n",
    "    ('author', 'written-by', 'paper'): torch.tensor([[0, 1], [0, 1]], dtype=torch.long),\n",
    "    ('paper', 'cites', 'paper'): torch.tensor([[0, 1], [1, 2]], dtype=torch.long),\n",
    "}\n",
    "\n",
    "# 数据对象\n",
    "data = Data(x_dict=x_dict, edge_index_dict=edge_index_dict)\n",
    "\n",
    "# 前向传播\n",
    "out = conv(x_dict, edge_index_dict)\n",
    "\n",
    "# 输出结果\n",
    "print(out)\n"
   ]
  },
  {
   "cell_type": "code",
   "execution_count": 9,
   "metadata": {},
   "outputs": [
    {
     "data": {
      "text/plain": [
       "torch.Size([4, 32])"
      ]
     },
     "execution_count": 9,
     "metadata": {},
     "output_type": "execute_result"
    }
   ],
   "source": [
    "out['paper'].shape"
   ]
  },
  {
   "cell_type": "code",
   "execution_count": 10,
   "metadata": {},
   "outputs": [
    {
     "data": {
      "text/plain": [
       "torch.Size([2, 32])"
      ]
     },
     "execution_count": 10,
     "metadata": {},
     "output_type": "execute_result"
    }
   ],
   "source": [
    "out['author'].shape"
   ]
  },
  {
   "cell_type": "code",
   "execution_count": null,
   "metadata": {},
   "outputs": [],
   "source": []
  }
 ],
 "metadata": {
  "kernelspec": {
   "display_name": "py38",
   "language": "python",
   "name": "python3"
  },
  "language_info": {
   "codemirror_mode": {
    "name": "ipython",
    "version": 3
   },
   "file_extension": ".py",
   "mimetype": "text/x-python",
   "name": "python",
   "nbconvert_exporter": "python",
   "pygments_lexer": "ipython3",
   "version": "3.8.16"
  },
  "orig_nbformat": 4
 },
 "nbformat": 4,
 "nbformat_minor": 2
}
